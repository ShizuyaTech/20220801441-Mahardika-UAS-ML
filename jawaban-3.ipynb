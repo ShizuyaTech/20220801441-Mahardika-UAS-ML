{
 "cells": [
  {
   "cell_type": "markdown",
   "metadata": {},
   "source": [
    "Libraries dan Frameworks\n",
    "1. TensorFlow: Framework open-source dari Google yang digunakan untuk membangun dan melatih model machine learning dan deep learning. TensorFlow menawarkan fleksibilitas dan ekstensibilitas yang tinggi.\n",
    "2. PyTorch: Framework open-source dari Facebook yang terkenal karena kemudahan penggunaannya dan dukungan yang kuat untuk penelitian dalam deep learning. PyTorch memiliki dukungan yang baik untuk dynamic computation graph.\n",
    "3. Scikit-learn: Library Python yang populer untuk machine learning klasik. Scikit-learn menyediakan berbagai algoritma machine learning, alat untuk pra-pemrosesan data, dan evaluasi model.\n",
    "4. Keras: API high-level yang berjalan di atas TensorFlow. Keras memudahkan pembuatan dan pelatihan model neural network dengan sintaks yang sederhana dan intuitif.\n",
    "5. XGBoost: Library yang dioptimalkan untuk algoritma boosting gradien, yang sering digunakan untuk kompetisi machine learning karena kinerja dan efisiensinya yang tinggi.\n",
    "6. LightGBM: Framework gradient boosting dari Microsoft yang sangat efisien dan cepat, terutama untuk dataset yang besar dan kompleks.\n",
    "7. NLTK (Natural Language Toolkit) dan spaCy: Library untuk pemrosesan bahasa alami (NLP) yang menyediakan berbagai alat dan model untuk analisis teks.\n",
    "\n",
    "Platforms dan Tools End-to-End\n",
    "1. Google Cloud AI Platform: Platform komprehensif dari Google Cloud yang menyediakan alat untuk membangun, melatih, dan menerapkan model machine learning.\n",
    "2. Amazon SageMaker: Platform dari AWS yang memudahkan pembangunan, pelatihan, dan deployment model machine learning dalam skala besar.\n",
    "3. Microsoft Azure Machine Learning: Platform dari Microsoft Azure yang menyediakan berbagai alat untuk pengembangan, pelatihan, dan penerapan model machine learning.\n",
    "4. IBM Watson Studio: Platform yang menyediakan alat untuk data science dan machine learning, termasuk pengolahan data, pembangunan model, dan deployment.\n",
    "5. RapidMiner: Platform yang menyediakan alat drag-and-drop untuk membangun dan menerapkan model machine learning tanpa perlu banyak kode.\n",
    "\n",
    "Tools untuk Eksplorasi dan Visualisasi Data\n",
    "1. Jupyter Notebooks: Alat interaktif yang memungkinkan Anda untuk menulis dan menjalankan kode dalam satu lingkungan, sangat populer di kalangan data scientist untuk eksplorasi data dan prototyping model.\n",
    "2. Matplotlib dan Seaborn: Library visualisasi data di Python yang memungkinkan pembuatan plot dan grafik yang informatif dan estetis.\n",
    "3. Tableau: Alat visualisasi data yang memungkinkan pembuatan dashboard interaktif dan visualisasi data yang mendalam.\n",
    "4. Power BI: Alat dari Microsoft untuk visualisasi dan analisis data yang memungkinkan pembuatan laporan dan dashboard yang interaktif."
   ]
  }
 ],
 "metadata": {
  "language_info": {
   "name": "python"
  }
 },
 "nbformat": 4,
 "nbformat_minor": 2
}
