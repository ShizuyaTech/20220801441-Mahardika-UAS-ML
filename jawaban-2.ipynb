{
 "cells": [
  {
   "cell_type": "markdown",
   "metadata": {},
   "source": [
    "Unsupervised adalah jenis pembelajaran mesin (machine learning) di mana model dilatih menggunakan data yang tidak memiliki label atau target output yang jelas. Tujuan utama Unsupervised learning adalah untuk menemukan pola atau struktur tersembunyi dalam data tanpa menggunakan informasi yang telah diberi label sebelumnya.\n",
    "\n",
    "Ciri-ciri Unsupervised Learning\n",
    "    - Tidak Memiliki Label: Data yang digunakan tidak memiliki label atau target output. Model tidak diberitahu apa yang harus dicari, tetapi dibiarkan menemukan pola sendiri.\n",
    "    - Pencarian Pola: Model berusaha menemukan struktur tersembunyi, pola, atau distribusi dalam data.\n",
    "    - Eksplorasi Data: Digunakan untuk eksplorasi data dan menemukan hubungan atau klaster yang tidak terlihat secara langsung.\n",
    "\n",
    "Metode Unsupervised Learning\n",
    "    1. Clustering (Pengelompokan):\n",
    "        - K-means Clustering: Mengelompokkan data ke dalam K klaster berdasarkan kesamaan fitur.\n",
    "        - Hierarchical Clustering: Membuat hierarki klaster yang dapat divisualisasikan dalam bentuk dendrogram.\n",
    "        - DBSCAN (Density-Based Spatial Clustering of Applications with Noise): Mengelompokkan data berdasarkan kepadatan, mampu menangani data dengan bentuk yang tidak beraturan.\n",
    "\n",
    "    2. Dimensionality Reduction (Reduksi Dimensi):\n",
    "        - PCA (Principal Component Analysis): Mengurangi dimensi data dengan memproyeksikan data ke dalam ruang dimensi yang lebih rendah yang memaksimalkan varians.\n",
    "        - t-SNE (t-Distributed Stochastic Neighbor Embedding): Teknik untuk visualisasi data dalam dimensi yang lebih rendah dengan mempertahankan jarak antar data dalam dimensi yang lebih tinggi.\n",
    "    3. Association (Asosiasi):\n",
    "        - Apriori Algorithm: Mencari asosiasi atau aturan frequent itemset dalam dataset transaksi, seperti analisis keranjang belanja (market basket analysis).\n",
    "        - Eclat Algorithm: Algoritma untuk menemukan pola frekuen dalam data yang sangat efisien.\n",
    "\n",
    "Kelebihan dan Kekurangan\n",
    "Kelebihan:\n",
    "    - Tidak memerlukan data berlabel, yang seringkali sulit didapatkan.\n",
    "    - Dapat menemukan pola atau struktur yang tidak diketahui sebelumnya dalam data.\n",
    "    \n",
    "Kekurangan:\n",
    "    - Hasilnya bisa kurang interpretable dibandingkan dengan supervised learning.\n",
    "    - Sulit untuk mengevaluasi hasil karena tidak ada label atau ground truth yang jelas."
   ]
  }
 ],
 "metadata": {
  "language_info": {
   "name": "python"
  }
 },
 "nbformat": 4,
 "nbformat_minor": 2
}
